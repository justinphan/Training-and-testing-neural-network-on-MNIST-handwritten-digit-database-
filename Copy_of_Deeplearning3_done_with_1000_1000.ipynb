{
  "nbformat": 4,
  "nbformat_minor": 0,
  "metadata": {
    "colab": {
      "name": "Copy of Deeplearning3 done with 1000 1000.ipynb",
      "version": "0.3.2",
      "provenance": [],
      "collapsed_sections": [],
      "include_colab_link": true
    },
    "kernelspec": {
      "name": "python3",
      "display_name": "Python 3"
    }
  },
  "cells": [
    {
      "cell_type": "markdown",
      "metadata": {
        "id": "view-in-github",
        "colab_type": "text"
      },
      "source": [
        "<a href=\"https://colab.research.google.com/github/justinphan/Training-and-testing-neural-network-on-MNIST-handwritten-digit-database-/blob/master/Copy_of_Deeplearning3_done_with_1000_1000.ipynb\" target=\"_parent\"><img src=\"https://colab.research.google.com/assets/colab-badge.svg\" alt=\"Open In Colab\"/></a>"
      ]
    },
    {
      "metadata": {
        "id": "91oP4WF2fgD9",
        "colab_type": "code",
        "colab": {}
      },
      "cell_type": "code",
      "source": [
        "# from google.colab import drive\n",
        "# drive.mount('/content/gdrive')"
      ],
      "execution_count": 0,
      "outputs": []
    },
    {
      "metadata": {
        "id": "MHHWwnfOgFNo",
        "colab_type": "code",
        "colab": {}
      },
      "cell_type": "code",
      "source": [
        "# Load the Drive helper and mount\n",
        "from google.colab import drive\n",
        "\n",
        "# This will prompt for authorization.\n",
        "drive.mount('/content/drive')\n",
        "\n",
        "# !ls \"/content/drive/My Drive/A/Training1000\""
      ],
      "execution_count": 0,
      "outputs": []
    },
    {
      "metadata": {
        "id": "Z8RyGQtGfsfo",
        "colab_type": "code",
        "colab": {}
      },
      "cell_type": "code",
      "source": [
        "# with open('/content/gdrive/My Drive/foo.txt', 'w') as f:\n",
        "#   f.write('Hello Google Drive!')\n",
        "# !cat /content/gdrive/My\\ Drive/foo.txt"
      ],
      "execution_count": 0,
      "outputs": []
    },
    {
      "metadata": {
        "id": "wiI1TLRRkFoc",
        "colab_type": "code",
        "colab": {}
      },
      "cell_type": "code",
      "source": [
        "import os\n",
        "import sys\n",
        "import cv2\n",
        "import numpy as np\n",
        "from sklearn.utils import shuffle\n",
        "\n",
        "training_size = 1000;\n",
        "testing_size = 1000;\n",
        "\n",
        "train = np.empty((training_size,28,28),dtype='float64')\n",
        "trainY = np.zeros((training_size,10,1))\n",
        "test = np.empty((testing_size,28,28),dtype='float64')\n",
        "testY = np.zeros((testing_size,10,1))\n",
        "# Load in the images\n",
        "i = 0\n",
        "for filename in os.listdir('/content/drive/My Drive/A/Training1000'):\n",
        "  y = int(filename[0])\n",
        "  trainY[i,y] = 1.0\n",
        "  train[i] = cv2.imread('/content/drive/My Drive/A/Training1000/{0}'.format(filename),0)/255.0 #\n",
        "  i = i + 1\n",
        "  if (i==training_size): break\n",
        "  \n",
        "i = 0 # read test data\n",
        "\n",
        "for filename in os.listdir('/content/drive/My Drive/A/TestAll10000'):\n",
        "  y = int(filename[0])\n",
        "  \n",
        "  testY[i,y] = 1.0\n",
        "  test[i] = cv2.imread('/content/drive/My Drive/A/TestAll10000/{0}'.format(filename),0)/255.0\n",
        "  i = i + 1\n",
        "  if (i==testing_size): break\n",
        "  \n",
        "trainX = train.reshape(train.shape[0],train.shape[1]*train.shape[2],1)\n",
        "testX = test.reshape(test.shape[0],test.shape[1]*test.shape[2],1)"
      ],
      "execution_count": 0,
      "outputs": []
    },
    {
      "metadata": {
        "id": "d1sU0iwgZzrM",
        "colab_type": "text"
      },
      "cell_type": "markdown",
      "source": [
        ""
      ]
    },
    {
      "metadata": {
        "id": "JtAvs3Uuoxjj",
        "colab_type": "code",
        "colab": {}
      },
      "cell_type": "code",
      "source": [
        "\n",
        "print(trainX.shape)\n",
        "print(trainX[1:4,:])"
      ],
      "execution_count": 0,
      "outputs": []
    },
    {
      "metadata": {
        "id": "l3aYlhnL3aUS",
        "colab_type": "code",
        "colab": {}
      },
      "cell_type": "code",
      "source": [
        "numNeuronsLayer1 = 100\n",
        "numNeuronsLayer2 = 10\n",
        "numEpochs = 100"
      ],
      "execution_count": 0,
      "outputs": []
    },
    {
      "metadata": {
        "id": "55K_5_cM3hME",
        "colab_type": "code",
        "colab": {}
      },
      "cell_type": "code",
      "source": [
        "w1 = np.random.uniform(low=-0.1,high=0.1,size=(numNeuronsLayer1,784))\n",
        "b1 = np.random.uniform(low=-1,high=1,size=(numNeuronsLayer1,1))\n",
        "w2 = np.random.uniform(low=-0.1,high=0.1,size=(numNeuronsLayer2,numNeuronsLayer1))\n",
        "b2 = np.random.uniform(low=-0.1,high=0.1,size=(numNeuronsLayer2,1))\n",
        "\n",
        "\n"
      ],
      "execution_count": 0,
      "outputs": []
    },
    {
      "metadata": {
        "id": "WgNJddjV34bl",
        "colab_type": "code",
        "colab": {}
      },
      "cell_type": "code",
      "source": [
        "learningRate = 0.1;\n",
        "for n in range(0,numEpochs):\n",
        "  loss = 0\n",
        "  trainX,trainY = shuffle(trainX, trainY) # shuffle data for stochastic behavior\n",
        "\n",
        "# print(trainX.shape)\n",
        "\n",
        "#trainX_squeezed = np.transpose(np.squeeze(trainX))\n",
        "#print(\"trainX_squeezed : {0}\".format(str(trainX_squeezed.shape)))\n",
        "\n",
        "for i in range(trainX.shape[0]):\n",
        " # do forward pass\n",
        " # your equations for the forward pass\n",
        "\n",
        "  print(\"b1 : {0}\".format(str(b1.shape)))\n",
        "  print(\"w1 : {0}\".format(str(w1.shape)))\n",
        "\n",
        "  s1 = np.dot(w1,trainX[i])+b1\n",
        "  print(\"s1 : {0}\".format(str(s1.shape)))\n",
        "\n",
        "  a1 = 1 / (1 + np.exp(-1*s1))\n",
        "  print(\"a1 : {0}\".format(str(s1.shape)))\n",
        "\n",
        "#   print(a1.shape)\n",
        "  s2 = np.dot(w2, a1) + b2\n",
        "  print(\"s2 : {0}\".format(str(s2.shape)))\n",
        "  a2 =  1 / (1 + np.exp(-1*s2))\n",
        "  print(\"a2 : {0}\".format(str(a2.shape)))\n",
        "\n",
        " # np.multiply\n",
        "  loss += (0.5 * ((a2-trainY[i])*(a2-trainY[i]))).sum()\n",
        "  \n",
        "  \n",
        " # do backprop and compute the gradients * also works instead\n",
        "  print(\"trainY[i] : {0}\".format(str(trainY[i].shape)))\n",
        "\n",
        "  delta2 = -np.multiply(1-a2,np.multiply(trainY[i]-a2,a2))\n",
        "  print(\"delta2 : {0}\".format(str(delta2.shape)))\n",
        "  \n",
        "  delta1 = np.multiply(1-a1,np.multiply( np.dot(np.transpose(w2),delta2) ,a1))\n",
        "  print(\"delta1 : {0}\".format(str(delta1.shape)))\n",
        "  \n",
        "  gradw1 = delta1*np.transpose(trainX[i])\n",
        "  print(\"gradw1 : {0}\".format(str(gradw1.shape)))\n",
        "\n",
        "  gradw2 = delta2*np.transpose(a1)\n",
        "  print(\"gradw2 : {0}\".format(str(gradw2.shape)))\n",
        "\n",
        "\n",
        "  gradb2 = delta2\n",
        "  gradb1 = delta1\n",
        "#   print(a2.shape)\n",
        " # loss += (0.5 * np.multiply((a2-trainY[i]),(a2-trainY[i]))).sum()\n",
        " # your equations for computing the deltas and the gradients\n",
        " # adjust the weights\n",
        "  w2 = w2 - learningRate * gradw2\n",
        "  b2 = b2 - learningRate * gradb2\n",
        "  \n",
        "  w1 = w1 - learningRate * gradw1\n",
        "  b1 = b1 - learningRate * gradb1\n",
        "\n",
        "\n",
        "  print(\"epoch = \" + str(n) + \" loss = \" + (str(loss)))\n",
        "\n"
      ],
      "execution_count": 0,
      "outputs": []
    },
    {
      "metadata": {
        "id": "z6U7oktq46iN",
        "colab_type": "text"
      },
      "cell_type": "markdown",
      "source": [
        "Testing phase"
      ]
    },
    {
      "metadata": {
        "id": "Atb-nst16Edh",
        "colab_type": "code",
        "colab": {}
      },
      "cell_type": "code",
      "source": [
        "print(\"done training , starting testing..\")\n",
        "accuracyCount = 0\n",
        "print(testY.shape[0])\n",
        "for i in range(testY.shape[0]):\n",
        "  # do forward pass\n",
        "  s1 = np.dot(w1,testX[i]) + b1\n",
        "  a1 = 1/(1+np.exp(-1*s1)) # np.exp operates on the array\n",
        "  s2 = np.dot(w2,a1) + b2\n",
        "  a2 = 1/(1+np.exp(-1*s2))\n",
        "  # determine index of maximum output value\n",
        "  a2index = a2.argmax(axis = 0)\n",
        "  if (testY[i,a2index] == 1):\n",
        "    accuracyCount = accuracyCount + 1\n",
        "#     print(\"Accuracy count = \" + str(accuracyCount/testing_size))\n",
        "print(\"Accuracy count = \" + str(accuracyCount))"
      ],
      "execution_count": 0,
      "outputs": []
    }
  ]
}